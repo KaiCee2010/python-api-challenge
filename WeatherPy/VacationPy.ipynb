{
 "cells": [
  {
   "cell_type": "markdown",
   "metadata": {},
   "source": [
    "# VacationPy\n",
    "----\n",
    "\n",
    "#### Note\n",
    "* Keep an eye on your API usage. Use https://developers.google.com/maps/reporting/gmp-reporting as reference for how to monitor your usage and billing.\n",
    "\n",
    "* Instructions have been included for each segment. You do not have to follow them exactly, but they are included to help you think through the steps."
   ]
  },
  {
   "cell_type": "code",
   "execution_count": 1,
   "metadata": {},
   "outputs": [],
   "source": [
    "# Dependencies and Setup\n",
    "import matplotlib.pyplot as plt\n",
    "import pandas as pd\n",
    "import numpy as np\n",
    "import requests\n",
    "import gmaps\n",
    "import os\n",
    "\n",
    "# Import API key\n",
    "from config import g_key"
   ]
  },
  {
   "cell_type": "markdown",
   "metadata": {},
   "source": [
    "### Store Part I results into DataFrame\n",
    "* Load the csv exported in Part I to a DataFrame"
   ]
  },
  {
   "cell_type": "code",
   "execution_count": 2,
   "metadata": {},
   "outputs": [],
   "source": [
    "# create file path\n",
    "infile = os.path.join(\"Output\", \"city_weather_data.csv\")\n",
    "\n",
    "#read csv into a dataframe\n",
    "city_data = pd.read_csv(infile)"
   ]
  },
  {
   "cell_type": "markdown",
   "metadata": {},
   "source": [
    "### Humidity Heatmap\n",
    "* Configure gmaps.\n",
    "* Use the Lat and Lng as locations and Humidity as the weight.\n",
    "* Add Heatmap layer to map."
   ]
  },
  {
   "cell_type": "code",
   "execution_count": 3,
   "metadata": {},
   "outputs": [
    {
     "data": {
      "application/vnd.jupyter.widget-view+json": {
       "model_id": "c97d57f9e1854073876d2578b82e6074",
       "version_major": 2,
       "version_minor": 0
      },
      "text/plain": [
       "Figure(layout=FigureLayout(border='3px solid black', height='580px', margin='0 auto 0 auto', padding='1px', wi…"
      ]
     },
     "metadata": {},
     "output_type": "display_data"
    }
   ],
   "source": [
    "gmaps.configure(api_key=g_key)\n",
    "\n",
    "# Create a variable for lat, long\n",
    "city_locations = city_data[[\"Lat\", \"Lng\"]]\n",
    "\n",
    "# Create a variable for humidity'\n",
    "city_humidity = city_data[\"Humidity\"]\n",
    "\n",
    "# Create the  figure\n",
    "figure_layout = {\n",
    "    'width': '800px',\n",
    "    'height': '580px',\n",
    "    'border': '3px solid black',\n",
    "    'padding': '1px',\n",
    "    'margin': '0 auto 0 auto'\n",
    "}\n",
    "\n",
    "fig = gmaps.figure(zoom_level = 2, center = (24.288292, 11.701573), layout=figure_layout)\n",
    "\n",
    "# Create the heatmap layer for city locations and humidity\n",
    "heat_layer = gmaps.heatmap_layer(city_locations, weights=city_humidity, \n",
    "                                 dissipating=False, max_intensity=city_humidity.max(),\n",
    "                                 point_radius=0.9)\n",
    "# Add heatmap layer to figure\n",
    "fig.add_layer(heat_layer)\n",
    "\n",
    "# Display the figure\n",
    "fig"
   ]
  },
  {
   "cell_type": "markdown",
   "metadata": {},
   "source": [
    "### Create new DataFrame fitting weather criteria\n",
    "* Narrow down the cities to fit weather conditions.\n",
    "* Drop any rows will null values."
   ]
  },
  {
   "cell_type": "code",
   "execution_count": 4,
   "metadata": {},
   "outputs": [
    {
     "data": {
      "text/html": [
       "<div>\n",
       "<style scoped>\n",
       "    .dataframe tbody tr th:only-of-type {\n",
       "        vertical-align: middle;\n",
       "    }\n",
       "\n",
       "    .dataframe tbody tr th {\n",
       "        vertical-align: top;\n",
       "    }\n",
       "\n",
       "    .dataframe thead th {\n",
       "        text-align: right;\n",
       "    }\n",
       "</style>\n",
       "<table border=\"1\" class=\"dataframe\">\n",
       "  <thead>\n",
       "    <tr style=\"text-align: right;\">\n",
       "      <th></th>\n",
       "      <th>City</th>\n",
       "      <th>Lat</th>\n",
       "      <th>Lng</th>\n",
       "      <th>Max Temp</th>\n",
       "      <th>Humidity</th>\n",
       "      <th>Cloudiness</th>\n",
       "      <th>Wind Speed</th>\n",
       "      <th>Country</th>\n",
       "      <th>Date</th>\n",
       "    </tr>\n",
       "  </thead>\n",
       "  <tbody>\n",
       "    <tr>\n",
       "      <th>137</th>\n",
       "      <td>Mahenge</td>\n",
       "      <td>-8.68</td>\n",
       "      <td>36.72</td>\n",
       "      <td>73.83</td>\n",
       "      <td>51</td>\n",
       "      <td>1</td>\n",
       "      <td>3.40</td>\n",
       "      <td>TZ</td>\n",
       "      <td>1600359393</td>\n",
       "    </tr>\n",
       "    <tr>\n",
       "      <th>236</th>\n",
       "      <td>Tongzhou</td>\n",
       "      <td>39.91</td>\n",
       "      <td>116.60</td>\n",
       "      <td>75.00</td>\n",
       "      <td>76</td>\n",
       "      <td>0</td>\n",
       "      <td>4.47</td>\n",
       "      <td>CN</td>\n",
       "      <td>1600359446</td>\n",
       "    </tr>\n",
       "    <tr>\n",
       "      <th>262</th>\n",
       "      <td>Yerköy</td>\n",
       "      <td>39.64</td>\n",
       "      <td>34.47</td>\n",
       "      <td>76.23</td>\n",
       "      <td>20</td>\n",
       "      <td>2</td>\n",
       "      <td>3.87</td>\n",
       "      <td>TR</td>\n",
       "      <td>1600359454</td>\n",
       "    </tr>\n",
       "    <tr>\n",
       "      <th>296</th>\n",
       "      <td>Biak</td>\n",
       "      <td>-0.91</td>\n",
       "      <td>122.88</td>\n",
       "      <td>76.01</td>\n",
       "      <td>73</td>\n",
       "      <td>2</td>\n",
       "      <td>1.90</td>\n",
       "      <td>ID</td>\n",
       "      <td>1600359475</td>\n",
       "    </tr>\n",
       "    <tr>\n",
       "      <th>499</th>\n",
       "      <td>Ritchie</td>\n",
       "      <td>-29.04</td>\n",
       "      <td>24.60</td>\n",
       "      <td>77.00</td>\n",
       "      <td>9</td>\n",
       "      <td>0</td>\n",
       "      <td>1.12</td>\n",
       "      <td>ZA</td>\n",
       "      <td>1600359593</td>\n",
       "    </tr>\n",
       "  </tbody>\n",
       "</table>\n",
       "</div>"
      ],
      "text/plain": [
       "         City    Lat     Lng  Max Temp  Humidity  Cloudiness  Wind Speed  \\\n",
       "137   Mahenge  -8.68   36.72     73.83        51           1        3.40   \n",
       "236  Tongzhou  39.91  116.60     75.00        76           0        4.47   \n",
       "262    Yerköy  39.64   34.47     76.23        20           2        3.87   \n",
       "296      Biak  -0.91  122.88     76.01        73           2        1.90   \n",
       "499   Ritchie -29.04   24.60     77.00         9           0        1.12   \n",
       "\n",
       "    Country        Date  \n",
       "137      TZ  1600359393  \n",
       "236      CN  1600359446  \n",
       "262      TR  1600359454  \n",
       "296      ID  1600359475  \n",
       "499      ZA  1600359593  "
      ]
     },
     "execution_count": 4,
     "metadata": {},
     "output_type": "execute_result"
    }
   ],
   "source": [
    "city_data_filtered = city_data.loc[(city_data['Max Temp'].between(70, 80)) & (city_data['Wind Speed'] < 5) & (city_data['Cloudiness'] < 5)].copy()  \n",
    "city_data_clean = city_data_filtered.dropna()\n",
    "city_data_clean"
   ]
  },
  {
   "cell_type": "markdown",
   "metadata": {},
   "source": [
    "### Hotel Map\n",
    "* Store into variable named `hotel_df`.\n",
    "* Add a \"Hotel Name\" column to the DataFrame.\n",
    "* Set parameters to search for hotels with 5000 meters.\n",
    "* Hit the Google Places API for each city's coordinates.\n",
    "* Store the first Hotel result into the DataFrame.\n",
    "* Plot markers on top of the heatmap."
   ]
  },
  {
   "cell_type": "code",
   "execution_count": 5,
   "metadata": {},
   "outputs": [],
   "source": [
    "hotel_df = city_data_clean\n",
    "hotel_df = hotel_df.reset_index(drop=True)"
   ]
  },
  {
   "cell_type": "code",
   "execution_count": 6,
   "metadata": {},
   "outputs": [
    {
     "name": "stdout",
     "output_type": "stream",
     "text": [
      "The closest hotel in Mahenge is Mkondosii Guest House.\n",
      "The closest hotel in Tongzhou is Inner Mongolia Hotel.\n",
      "The closest hotel in Yerköy is Yerköy Öğretmenevi.\n",
      "The closest hotel in Biak is Kost Ariz.\n",
      "The closest hotel in Ritchie is Riverside country club.\n"
     ]
    },
    {
     "data": {
      "text/html": [
       "<div>\n",
       "<style scoped>\n",
       "    .dataframe tbody tr th:only-of-type {\n",
       "        vertical-align: middle;\n",
       "    }\n",
       "\n",
       "    .dataframe tbody tr th {\n",
       "        vertical-align: top;\n",
       "    }\n",
       "\n",
       "    .dataframe thead th {\n",
       "        text-align: right;\n",
       "    }\n",
       "</style>\n",
       "<table border=\"1\" class=\"dataframe\">\n",
       "  <thead>\n",
       "    <tr style=\"text-align: right;\">\n",
       "      <th></th>\n",
       "      <th>City</th>\n",
       "      <th>Lat</th>\n",
       "      <th>Lng</th>\n",
       "      <th>Max Temp</th>\n",
       "      <th>Humidity</th>\n",
       "      <th>Cloudiness</th>\n",
       "      <th>Wind Speed</th>\n",
       "      <th>Country</th>\n",
       "      <th>Date</th>\n",
       "      <th>Hotel Name</th>\n",
       "    </tr>\n",
       "  </thead>\n",
       "  <tbody>\n",
       "    <tr>\n",
       "      <th>0</th>\n",
       "      <td>Mahenge</td>\n",
       "      <td>-8.68</td>\n",
       "      <td>36.72</td>\n",
       "      <td>73.83</td>\n",
       "      <td>51</td>\n",
       "      <td>1</td>\n",
       "      <td>3.40</td>\n",
       "      <td>TZ</td>\n",
       "      <td>1600359393</td>\n",
       "      <td>Mkondosii Guest House</td>\n",
       "    </tr>\n",
       "    <tr>\n",
       "      <th>1</th>\n",
       "      <td>Tongzhou</td>\n",
       "      <td>39.91</td>\n",
       "      <td>116.60</td>\n",
       "      <td>75.00</td>\n",
       "      <td>76</td>\n",
       "      <td>0</td>\n",
       "      <td>4.47</td>\n",
       "      <td>CN</td>\n",
       "      <td>1600359446</td>\n",
       "      <td>Inner Mongolia Hotel</td>\n",
       "    </tr>\n",
       "    <tr>\n",
       "      <th>2</th>\n",
       "      <td>Yerköy</td>\n",
       "      <td>39.64</td>\n",
       "      <td>34.47</td>\n",
       "      <td>76.23</td>\n",
       "      <td>20</td>\n",
       "      <td>2</td>\n",
       "      <td>3.87</td>\n",
       "      <td>TR</td>\n",
       "      <td>1600359454</td>\n",
       "      <td>Yerköy Öğretmenevi</td>\n",
       "    </tr>\n",
       "    <tr>\n",
       "      <th>3</th>\n",
       "      <td>Biak</td>\n",
       "      <td>-0.91</td>\n",
       "      <td>122.88</td>\n",
       "      <td>76.01</td>\n",
       "      <td>73</td>\n",
       "      <td>2</td>\n",
       "      <td>1.90</td>\n",
       "      <td>ID</td>\n",
       "      <td>1600359475</td>\n",
       "      <td>Kost Ariz</td>\n",
       "    </tr>\n",
       "    <tr>\n",
       "      <th>4</th>\n",
       "      <td>Ritchie</td>\n",
       "      <td>-29.04</td>\n",
       "      <td>24.60</td>\n",
       "      <td>77.00</td>\n",
       "      <td>9</td>\n",
       "      <td>0</td>\n",
       "      <td>1.12</td>\n",
       "      <td>ZA</td>\n",
       "      <td>1600359593</td>\n",
       "      <td>Riverside country club</td>\n",
       "    </tr>\n",
       "  </tbody>\n",
       "</table>\n",
       "</div>"
      ],
      "text/plain": [
       "       City    Lat     Lng  Max Temp  Humidity  Cloudiness  Wind Speed  \\\n",
       "0   Mahenge  -8.68   36.72     73.83        51           1        3.40   \n",
       "1  Tongzhou  39.91  116.60     75.00        76           0        4.47   \n",
       "2    Yerköy  39.64   34.47     76.23        20           2        3.87   \n",
       "3      Biak  -0.91  122.88     76.01        73           2        1.90   \n",
       "4   Ritchie -29.04   24.60     77.00         9           0        1.12   \n",
       "\n",
       "  Country        Date              Hotel Name  \n",
       "0      TZ  1600359393   Mkondosii Guest House  \n",
       "1      CN  1600359446    Inner Mongolia Hotel  \n",
       "2      TR  1600359454      Yerköy Öğretmenevi  \n",
       "3      ID  1600359475               Kost Ariz  \n",
       "4      ZA  1600359593  Riverside country club  "
      ]
     },
     "execution_count": 6,
     "metadata": {},
     "output_type": "execute_result"
    }
   ],
   "source": [
    "hotel_df['Hotel Name'] = \"\"\n",
    "hotel_df\n",
    "\n",
    "base_url = \"https://maps.googleapis.com/maps/api/place/nearbysearch/json\"\n",
    "\n",
    "# Create a dictionary variable to store the parameters\n",
    "params = {\n",
    "    'radius': 5000,\n",
    "    'type': 'lodging',\n",
    "    'key': g_key,\n",
    "}\n",
    "\n",
    "for index, row in hotel_df.iterrows():\n",
    "\n",
    "    # get restaurant type from DataFrame\n",
    "    lat_longs = f\"{row['Lat']},{row['Lng']}\"\n",
    "\n",
    "    # add a new key to our params dictionary that will store our keyword to search for\n",
    "    params['location'] = lat_longs\n",
    "\n",
    "    # assemble url and make API request\n",
    "#    print(f\"Retrieving Results for Index {index}: {row['City']} {lat_longs}.\")\n",
    "    \n",
    "    response = requests.get(base_url, params=params).json()\n",
    "    results = response['results']\n",
    "    try:\n",
    "        print(f\"The closest hotel in {row['City']} is {results[0]['name']}.\")\n",
    "        hotel_df.loc[index, 'Hotel Name'] = results[0]['name']\n",
    "        \n",
    "    except (KeyError, IndexError):\n",
    "        print(f\"No hotel found in {row['City']}\")\n",
    "\n",
    "hotel_df"
   ]
  },
  {
   "cell_type": "code",
   "execution_count": 7,
   "metadata": {},
   "outputs": [],
   "source": [
    "# NOTE: Do not change any of the code in this cell\n",
    "\n",
    "# Using the template add the hotel marks to the heatmap\n",
    "info_box_template = \"\"\"\n",
    "<dl>\n",
    "<dt>Name</dt><dd>{Hotel Name}</dd>\n",
    "<dt>City</dt><dd>{City}</dd>\n",
    "<dt>Country</dt><dd>{Country}</dd>\n",
    "</dl>\n",
    "\"\"\"\n",
    "# Store the DataFrame Row\n",
    "# NOTE: be sure to update with your DataFrame name\n",
    "hotel_info = [info_box_template.format(**row) for index, row in hotel_df.iterrows()]\n",
    "locations = hotel_df[[\"Lat\", \"Lng\"]]"
   ]
  },
  {
   "cell_type": "code",
   "execution_count": 8,
   "metadata": {},
   "outputs": [
    {
     "data": {
      "application/vnd.jupyter.widget-view+json": {
       "model_id": "c97d57f9e1854073876d2578b82e6074",
       "version_major": 2,
       "version_minor": 0
      },
      "text/plain": [
       "Figure(layout=FigureLayout(border='3px solid black', height='580px', margin='0 auto 0 auto', padding='1px', wi…"
      ]
     },
     "metadata": {},
     "output_type": "display_data"
    }
   ],
   "source": [
    "# Add marker layer ontop of heat map\n",
    "\n",
    "hotel_layer = gmaps.marker_layer(locations, info_box_content=hotel_info)\n",
    "\n",
    "# Add the layer to the figure\n",
    "fig.add_layer(hotel_layer)\n",
    "\n",
    "# Display figure\n",
    "fig"
   ]
  },
  {
   "cell_type": "code",
   "execution_count": null,
   "metadata": {},
   "outputs": [],
   "source": []
  }
 ],
 "metadata": {
  "kernelspec": {
   "display_name": "Python 3",
   "language": "python",
   "name": "python3"
  },
  "language_info": {
   "codemirror_mode": {
    "name": "ipython",
    "version": 3
   },
   "file_extension": ".py",
   "mimetype": "text/x-python",
   "name": "python",
   "nbconvert_exporter": "python",
   "pygments_lexer": "ipython3",
   "version": "3.8.3"
  },
  "latex_envs": {
   "LaTeX_envs_menu_present": true,
   "autoclose": false,
   "autocomplete": true,
   "bibliofile": "biblio.bib",
   "cite_by": "apalike",
   "current_citInitial": 1,
   "eqLabelWithNumbers": true,
   "eqNumInitial": 1,
   "hotkeys": {
    "equation": "Ctrl-E",
    "itemize": "Ctrl-I"
   },
   "labels_anchors": false,
   "latex_user_defs": false,
   "report_style_numbering": false,
   "user_envs_cfg": false
  }
 },
 "nbformat": 4,
 "nbformat_minor": 4
}
